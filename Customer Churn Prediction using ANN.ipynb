{
 "cells": [
  {
   "cell_type": "code",
   "execution_count": 39,
   "metadata": {},
   "outputs": [],
   "source": [
    "import pandas as pd\n",
    "import numpy as np \n",
    "import matplotlib.pyplot as plt\n",
    "import seaborn as sns"
   ]
  },
  {
   "cell_type": "code",
   "execution_count": 40,
   "metadata": {},
   "outputs": [
    {
     "data": {
      "text/html": [
       "<div>\n",
       "<style scoped>\n",
       "    .dataframe tbody tr th:only-of-type {\n",
       "        vertical-align: middle;\n",
       "    }\n",
       "\n",
       "    .dataframe tbody tr th {\n",
       "        vertical-align: top;\n",
       "    }\n",
       "\n",
       "    .dataframe thead th {\n",
       "        text-align: right;\n",
       "    }\n",
       "</style>\n",
       "<table border=\"1\" class=\"dataframe\">\n",
       "  <thead>\n",
       "    <tr style=\"text-align: right;\">\n",
       "      <th></th>\n",
       "      <th>customerID</th>\n",
       "      <th>gender</th>\n",
       "      <th>SeniorCitizen</th>\n",
       "      <th>Partner</th>\n",
       "      <th>Dependents</th>\n",
       "      <th>tenure</th>\n",
       "      <th>PhoneService</th>\n",
       "      <th>MultipleLines</th>\n",
       "      <th>InternetService</th>\n",
       "      <th>OnlineSecurity</th>\n",
       "      <th>...</th>\n",
       "      <th>DeviceProtection</th>\n",
       "      <th>TechSupport</th>\n",
       "      <th>StreamingTV</th>\n",
       "      <th>StreamingMovies</th>\n",
       "      <th>Contract</th>\n",
       "      <th>PaperlessBilling</th>\n",
       "      <th>PaymentMethod</th>\n",
       "      <th>MonthlyCharges</th>\n",
       "      <th>TotalCharges</th>\n",
       "      <th>Churn</th>\n",
       "    </tr>\n",
       "  </thead>\n",
       "  <tbody>\n",
       "    <tr>\n",
       "      <th>0</th>\n",
       "      <td>7590-VHVEG</td>\n",
       "      <td>Female</td>\n",
       "      <td>0</td>\n",
       "      <td>Yes</td>\n",
       "      <td>No</td>\n",
       "      <td>1</td>\n",
       "      <td>No</td>\n",
       "      <td>No phone service</td>\n",
       "      <td>DSL</td>\n",
       "      <td>No</td>\n",
       "      <td>...</td>\n",
       "      <td>No</td>\n",
       "      <td>No</td>\n",
       "      <td>No</td>\n",
       "      <td>No</td>\n",
       "      <td>Month-to-month</td>\n",
       "      <td>Yes</td>\n",
       "      <td>Electronic check</td>\n",
       "      <td>29.85</td>\n",
       "      <td>29.85</td>\n",
       "      <td>No</td>\n",
       "    </tr>\n",
       "    <tr>\n",
       "      <th>1</th>\n",
       "      <td>5575-GNVDE</td>\n",
       "      <td>Male</td>\n",
       "      <td>0</td>\n",
       "      <td>No</td>\n",
       "      <td>No</td>\n",
       "      <td>34</td>\n",
       "      <td>Yes</td>\n",
       "      <td>No</td>\n",
       "      <td>DSL</td>\n",
       "      <td>Yes</td>\n",
       "      <td>...</td>\n",
       "      <td>Yes</td>\n",
       "      <td>No</td>\n",
       "      <td>No</td>\n",
       "      <td>No</td>\n",
       "      <td>One year</td>\n",
       "      <td>No</td>\n",
       "      <td>Mailed check</td>\n",
       "      <td>56.95</td>\n",
       "      <td>1889.5</td>\n",
       "      <td>No</td>\n",
       "    </tr>\n",
       "    <tr>\n",
       "      <th>2</th>\n",
       "      <td>3668-QPYBK</td>\n",
       "      <td>Male</td>\n",
       "      <td>0</td>\n",
       "      <td>No</td>\n",
       "      <td>No</td>\n",
       "      <td>2</td>\n",
       "      <td>Yes</td>\n",
       "      <td>No</td>\n",
       "      <td>DSL</td>\n",
       "      <td>Yes</td>\n",
       "      <td>...</td>\n",
       "      <td>No</td>\n",
       "      <td>No</td>\n",
       "      <td>No</td>\n",
       "      <td>No</td>\n",
       "      <td>Month-to-month</td>\n",
       "      <td>Yes</td>\n",
       "      <td>Mailed check</td>\n",
       "      <td>53.85</td>\n",
       "      <td>108.15</td>\n",
       "      <td>Yes</td>\n",
       "    </tr>\n",
       "    <tr>\n",
       "      <th>3</th>\n",
       "      <td>7795-CFOCW</td>\n",
       "      <td>Male</td>\n",
       "      <td>0</td>\n",
       "      <td>No</td>\n",
       "      <td>No</td>\n",
       "      <td>45</td>\n",
       "      <td>No</td>\n",
       "      <td>No phone service</td>\n",
       "      <td>DSL</td>\n",
       "      <td>Yes</td>\n",
       "      <td>...</td>\n",
       "      <td>Yes</td>\n",
       "      <td>Yes</td>\n",
       "      <td>No</td>\n",
       "      <td>No</td>\n",
       "      <td>One year</td>\n",
       "      <td>No</td>\n",
       "      <td>Bank transfer (automatic)</td>\n",
       "      <td>42.30</td>\n",
       "      <td>1840.75</td>\n",
       "      <td>No</td>\n",
       "    </tr>\n",
       "    <tr>\n",
       "      <th>4</th>\n",
       "      <td>9237-HQITU</td>\n",
       "      <td>Female</td>\n",
       "      <td>0</td>\n",
       "      <td>No</td>\n",
       "      <td>No</td>\n",
       "      <td>2</td>\n",
       "      <td>Yes</td>\n",
       "      <td>No</td>\n",
       "      <td>Fiber optic</td>\n",
       "      <td>No</td>\n",
       "      <td>...</td>\n",
       "      <td>No</td>\n",
       "      <td>No</td>\n",
       "      <td>No</td>\n",
       "      <td>No</td>\n",
       "      <td>Month-to-month</td>\n",
       "      <td>Yes</td>\n",
       "      <td>Electronic check</td>\n",
       "      <td>70.70</td>\n",
       "      <td>151.65</td>\n",
       "      <td>Yes</td>\n",
       "    </tr>\n",
       "  </tbody>\n",
       "</table>\n",
       "<p>5 rows × 21 columns</p>\n",
       "</div>"
      ],
      "text/plain": [
       "   customerID  gender  SeniorCitizen Partner Dependents  tenure PhoneService  \\\n",
       "0  7590-VHVEG  Female              0     Yes         No       1           No   \n",
       "1  5575-GNVDE    Male              0      No         No      34          Yes   \n",
       "2  3668-QPYBK    Male              0      No         No       2          Yes   \n",
       "3  7795-CFOCW    Male              0      No         No      45           No   \n",
       "4  9237-HQITU  Female              0      No         No       2          Yes   \n",
       "\n",
       "      MultipleLines InternetService OnlineSecurity  ... DeviceProtection  \\\n",
       "0  No phone service             DSL             No  ...               No   \n",
       "1                No             DSL            Yes  ...              Yes   \n",
       "2                No             DSL            Yes  ...               No   \n",
       "3  No phone service             DSL            Yes  ...              Yes   \n",
       "4                No     Fiber optic             No  ...               No   \n",
       "\n",
       "  TechSupport StreamingTV StreamingMovies        Contract PaperlessBilling  \\\n",
       "0          No          No              No  Month-to-month              Yes   \n",
       "1          No          No              No        One year               No   \n",
       "2          No          No              No  Month-to-month              Yes   \n",
       "3         Yes          No              No        One year               No   \n",
       "4          No          No              No  Month-to-month              Yes   \n",
       "\n",
       "               PaymentMethod MonthlyCharges  TotalCharges Churn  \n",
       "0           Electronic check          29.85         29.85    No  \n",
       "1               Mailed check          56.95        1889.5    No  \n",
       "2               Mailed check          53.85        108.15   Yes  \n",
       "3  Bank transfer (automatic)          42.30       1840.75    No  \n",
       "4           Electronic check          70.70        151.65   Yes  \n",
       "\n",
       "[5 rows x 21 columns]"
      ]
     },
     "execution_count": 40,
     "metadata": {},
     "output_type": "execute_result"
    }
   ],
   "source": [
    "df  = pd.read_csv('WA_Fn-UseC_-Telco-Customer-Churn.csv')\n",
    "df.head()"
   ]
  },
  {
   "cell_type": "code",
   "execution_count": 41,
   "metadata": {},
   "outputs": [],
   "source": [
    "del df['customerID']"
   ]
  },
  {
   "cell_type": "code",
   "execution_count": 42,
   "metadata": {
    "scrolled": false
   },
   "outputs": [
    {
     "data": {
      "text/plain": [
       "gender               object\n",
       "SeniorCitizen         int64\n",
       "Partner              object\n",
       "Dependents           object\n",
       "tenure                int64\n",
       "PhoneService         object\n",
       "MultipleLines        object\n",
       "InternetService      object\n",
       "OnlineSecurity       object\n",
       "OnlineBackup         object\n",
       "DeviceProtection     object\n",
       "TechSupport          object\n",
       "StreamingTV          object\n",
       "StreamingMovies      object\n",
       "Contract             object\n",
       "PaperlessBilling     object\n",
       "PaymentMethod        object\n",
       "MonthlyCharges      float64\n",
       "TotalCharges         object\n",
       "Churn                object\n",
       "dtype: object"
      ]
     },
     "execution_count": 42,
     "metadata": {},
     "output_type": "execute_result"
    }
   ],
   "source": [
    "df.head()\n",
    "df.dtypes"
   ]
  },
  {
   "cell_type": "code",
   "execution_count": 43,
   "metadata": {},
   "outputs": [
    {
     "data": {
      "text/plain": [
       "array(['29.85', '1889.5', '108.15', ..., '346.45', '306.6', '6844.5'],\n",
       "      dtype=object)"
      ]
     },
     "execution_count": 43,
     "metadata": {},
     "output_type": "execute_result"
    }
   ],
   "source": [
    "df.TotalCharges.values"
   ]
  },
  {
   "cell_type": "code",
   "execution_count": 44,
   "metadata": {
    "scrolled": true
   },
   "outputs": [
    {
     "data": {
      "text/plain": [
       "(7032, 20)"
      ]
     },
     "execution_count": 44,
     "metadata": {},
     "output_type": "execute_result"
    }
   ],
   "source": [
    "df = df[df.TotalCharges!=' ']\n",
    "df.shape"
   ]
  },
  {
   "cell_type": "code",
   "execution_count": 45,
   "metadata": {
    "scrolled": true
   },
   "outputs": [],
   "source": [
    "df.TotalCharges = pd.to_numeric(df.TotalCharges)"
   ]
  },
  {
   "cell_type": "code",
   "execution_count": 46,
   "metadata": {
    "scrolled": false
   },
   "outputs": [
    {
     "name": "stdout",
     "output_type": "stream",
     "text": [
      "<class 'pandas.core.frame.DataFrame'>\n",
      "Int64Index: 7032 entries, 0 to 7042\n",
      "Data columns (total 20 columns):\n",
      " #   Column            Non-Null Count  Dtype  \n",
      "---  ------            --------------  -----  \n",
      " 0   gender            7032 non-null   object \n",
      " 1   SeniorCitizen     7032 non-null   int64  \n",
      " 2   Partner           7032 non-null   object \n",
      " 3   Dependents        7032 non-null   object \n",
      " 4   tenure            7032 non-null   int64  \n",
      " 5   PhoneService      7032 non-null   object \n",
      " 6   MultipleLines     7032 non-null   object \n",
      " 7   InternetService   7032 non-null   object \n",
      " 8   OnlineSecurity    7032 non-null   object \n",
      " 9   OnlineBackup      7032 non-null   object \n",
      " 10  DeviceProtection  7032 non-null   object \n",
      " 11  TechSupport       7032 non-null   object \n",
      " 12  StreamingTV       7032 non-null   object \n",
      " 13  StreamingMovies   7032 non-null   object \n",
      " 14  Contract          7032 non-null   object \n",
      " 15  PaperlessBilling  7032 non-null   object \n",
      " 16  PaymentMethod     7032 non-null   object \n",
      " 17  MonthlyCharges    7032 non-null   float64\n",
      " 18  TotalCharges      7032 non-null   float64\n",
      " 19  Churn             7032 non-null   object \n",
      "dtypes: float64(2), int64(2), object(16)\n",
      "memory usage: 1.1+ MB\n"
     ]
    }
   ],
   "source": [
    "df.info()"
   ]
  },
  {
   "cell_type": "code",
   "execution_count": 47,
   "metadata": {},
   "outputs": [
    {
     "data": {
      "text/plain": [
       "0        1\n",
       "1       34\n",
       "3       45\n",
       "6       22\n",
       "7       10\n",
       "        ..\n",
       "7037    72\n",
       "7038    24\n",
       "7039    72\n",
       "7040    11\n",
       "7042    66\n",
       "Name: tenure, Length: 5163, dtype: int64"
      ]
     },
     "execution_count": 47,
     "metadata": {},
     "output_type": "execute_result"
    }
   ],
   "source": [
    "df[df.Churn=='No'].tenure\n"
   ]
  },
  {
   "cell_type": "code",
   "execution_count": 48,
   "metadata": {
    "scrolled": false
   },
   "outputs": [
    {
     "data": {
      "text/plain": [
       "<AxesSubplot:xlabel='tenure', ylabel='Count'>"
      ]
     },
     "execution_count": 48,
     "metadata": {},
     "output_type": "execute_result"
    },
    {
     "data": {
      "image/png": "[encoded data removed]",
      "text/plain": [
       "<Figure size 1008x648 with 1 Axes>"
      ]
     },
     "metadata": {
      "needs_background": "light"
     },
     "output_type": "display_data"
    }
   ],
   "source": [
    "plt.figure(figsize=(14,9))\n",
    "sns.histplot(x='tenure',hue='Churn',data=df,multiple=\"dodge\",bins=10,shrink=.7,palette='light:#5A9')"
   ]
  },
  {
   "cell_type": "code",
   "execution_count": 49,
   "metadata": {
    "scrolled": false
   },
   "outputs": [
    {
     "data": {
      "image/png": "[encoded data removed]",
      "text/plain": [
       "<Figure size 1008x648 with 1 Axes>"
      ]
     },
     "metadata": {
      "needs_background": "light"
     },
     "output_type": "display_data"
    }
   ],
   "source": [
    "plt.figure(figsize=(14,9))\n",
    "sns.histplot(x='MonthlyCharges',hue='Churn',data=df,multiple=\"dodge\",bins=10,shrink=.7,palette='light:#5A9');a"
   ]
  },
  {
   "cell_type": "code",
   "execution_count": 50,
   "metadata": {},
   "outputs": [
    {
     "name": "stdout",
     "output_type": "stream",
     "text": [
      "gender : ['Female' 'Male']\n",
      "Partner : ['Yes' 'No']\n",
      "Dependents : ['No' 'Yes']\n",
      "PhoneService : ['No' 'Yes']\n",
      "MultipleLines : ['No phone service' 'No' 'Yes']\n",
      "InternetService : ['DSL' 'Fiber optic' 'No']\n",
      "OnlineSecurity : ['No' 'Yes' 'No internet service']\n",
      "OnlineBackup : ['Yes' 'No' 'No internet service']\n",
      "DeviceProtection : ['No' 'Yes' 'No internet service']\n",
      "TechSupport : ['No' 'Yes' 'No internet service']\n",
      "StreamingTV : ['No' 'Yes' 'No internet service']\n",
      "StreamingMovies : ['No' 'Yes' 'No internet service']\n",
      "Contract : ['Month-to-month' 'One year' 'Two year']\n",
      "PaperlessBilling : ['Yes' 'No']\n",
      "PaymentMethod : ['Electronic check' 'Mailed check' 'Bank transfer (automatic)'\n",
      " 'Credit card (automatic)']\n",
      "Churn : ['No' 'Yes']\n",
      "['gender', 'Partner', 'Dependents', 'PhoneService', 'MultipleLines', 'InternetService', 'OnlineSecurity', 'OnlineBackup', 'DeviceProtection', 'TechSupport', 'StreamingTV', 'StreamingMovies', 'Contract', 'PaperlessBilling', 'PaymentMethod', 'Churn']\n"
     ]
    }
   ],
   "source": [
    "cat_col = []\n",
    "def print_unique_col_values(df):\n",
    "    for column in df:\n",
    "        if df[column].dtypes=='object':\n",
    "            cat_col.append(column)\n",
    "            print(f'{column} : {df[column].unique()}')\n",
    "print_unique_col_values(df)\n",
    "print(cat_col)"
   ]
  },
  {
   "cell_type": "code",
   "execution_count": 51,
   "metadata": {},
   "outputs": [],
   "source": [
    "df.replace('No internet service','No',inplace=True)\n",
    "df.replace('No phone service','No',inplace=True)"
   ]
  },
  {
   "cell_type": "code",
   "execution_count": 52,
   "metadata": {
    "scrolled": true
   },
   "outputs": [
    {
     "name": "stdout",
     "output_type": "stream",
     "text": [
      "gender : ['Female' 'Male']\n",
      "Partner : ['Yes' 'No']\n",
      "Dependents : ['No' 'Yes']\n",
      "PhoneService : ['No' 'Yes']\n",
      "MultipleLines : ['No' 'Yes']\n",
      "InternetService : ['DSL' 'Fiber optic' 'No']\n",
      "OnlineSecurity : ['No' 'Yes']\n",
      "OnlineBackup : ['Yes' 'No']\n",
      "DeviceProtection : ['No' 'Yes']\n",
      "TechSupport : ['No' 'Yes']\n",
      "StreamingTV : ['No' 'Yes']\n",
      "StreamingMovies : ['No' 'Yes']\n",
      "Contract : ['Month-to-month' 'One year' 'Two year']\n",
      "PaperlessBilling : ['Yes' 'No']\n",
      "PaymentMethod : ['Electronic check' 'Mailed check' 'Bank transfer (automatic)'\n",
      " 'Credit card (automatic)']\n",
      "Churn : ['No' 'Yes']\n"
     ]
    }
   ],
   "source": [
    "print_unique_col_values(df)"
   ]
  },
  {
   "cell_type": "code",
   "execution_count": 53,
   "metadata": {},
   "outputs": [],
   "source": [
    "cat_col = ['gender',\n",
    " 'Partner',\n",
    " 'Dependents',\n",
    " 'PhoneService',\n",
    " 'MultipleLines',\n",
    "'OnlineSecurity',\n",
    " 'OnlineBackup',\n",
    " 'DeviceProtection',\n",
    " 'TechSupport',\n",
    " 'StreamingTV',\n",
    " 'StreamingMovies',\n",
    " 'PaperlessBilling',\n",
    " 'Churn']\n",
    "one_hot_col = ['InternetService','Contract','PaymentMethod']"
   ]
  },
  {
   "cell_type": "code",
   "execution_count": 54,
   "metadata": {},
   "outputs": [],
   "source": [
    "from sklearn.preprocessing import LabelEncoder ,OneHotEncoder\n",
    "lb = LabelEncoder()\n",
    "for i in cat_col:\n",
    "    df[i] = lb.fit_transform(df[i])\n",
    "\n"
   ]
  },
  {
   "cell_type": "code",
   "execution_count": 55,
   "metadata": {},
   "outputs": [],
   "source": [
    "df = pd.get_dummies(data=df,columns=one_hot_col)\n"
   ]
  },
  {
   "cell_type": "code",
   "execution_count": 57,
   "metadata": {},
   "outputs": [
    {
     "data": {
      "text/html": [
       "<div>\n",
       "<style scoped>\n",
       "    .dataframe tbody tr th:only-of-type {\n",
       "        vertical-align: middle;\n",
       "    }\n",
       "\n",
       "    .dataframe tbody tr th {\n",
       "        vertical-align: top;\n",
       "    }\n",
       "\n",
       "    .dataframe thead th {\n",
       "        text-align: right;\n",
       "    }\n",
       "</style>\n",
       "<table border=\"1\" class=\"dataframe\">\n",
       "  <thead>\n",
       "    <tr style=\"text-align: right;\">\n",
       "      <th></th>\n",
       "      <th>gender</th>\n",
       "      <th>SeniorCitizen</th>\n",
       "      <th>Partner</th>\n",
       "      <th>Dependents</th>\n",
       "      <th>tenure</th>\n",
       "      <th>PhoneService</th>\n",
       "      <th>MultipleLines</th>\n",
       "      <th>OnlineSecurity</th>\n",
       "      <th>OnlineBackup</th>\n",
       "      <th>DeviceProtection</th>\n",
       "      <th>...</th>\n",
       "      <th>InternetService_DSL</th>\n",
       "      <th>InternetService_Fiber optic</th>\n",
       "      <th>InternetService_No</th>\n",
       "      <th>Contract_Month-to-month</th>\n",
       "      <th>Contract_One year</th>\n",
       "      <th>Contract_Two year</th>\n",
       "      <th>PaymentMethod_Bank transfer (automatic)</th>\n",
       "      <th>PaymentMethod_Credit card (automatic)</th>\n",
       "      <th>PaymentMethod_Electronic check</th>\n",
       "      <th>PaymentMethod_Mailed check</th>\n",
       "    </tr>\n",
       "  </thead>\n",
       "  <tbody>\n",
       "    <tr>\n",
       "      <th>0</th>\n",
       "      <td>0</td>\n",
       "      <td>0</td>\n",
       "      <td>1</td>\n",
       "      <td>0</td>\n",
       "      <td>1</td>\n",
       "      <td>0</td>\n",
       "      <td>0</td>\n",
       "      <td>0</td>\n",
       "      <td>1</td>\n",
       "      <td>0</td>\n",
       "      <td>...</td>\n",
       "      <td>1</td>\n",
       "      <td>0</td>\n",
       "      <td>0</td>\n",
       "      <td>1</td>\n",
       "      <td>0</td>\n",
       "      <td>0</td>\n",
       "      <td>0</td>\n",
       "      <td>0</td>\n",
       "      <td>1</td>\n",
       "      <td>0</td>\n",
       "    </tr>\n",
       "    <tr>\n",
       "      <th>1</th>\n",
       "      <td>1</td>\n",
       "      <td>0</td>\n",
       "      <td>0</td>\n",
       "      <td>0</td>\n",
       "      <td>34</td>\n",
       "      <td>1</td>\n",
       "      <td>0</td>\n",
       "      <td>1</td>\n",
       "      <td>0</td>\n",
       "      <td>1</td>\n",
       "      <td>...</td>\n",
       "      <td>1</td>\n",
       "      <td>0</td>\n",
       "      <td>0</td>\n",
       "      <td>0</td>\n",
       "      <td>1</td>\n",
       "      <td>0</td>\n",
       "      <td>0</td>\n",
       "      <td>0</td>\n",
       "      <td>0</td>\n",
       "      <td>1</td>\n",
       "    </tr>\n",
       "  </tbody>\n",
       "</table>\n",
       "<p>2 rows × 27 columns</p>\n",
       "</div>"
      ],
      "text/plain": [
       "   gender  SeniorCitizen  Partner  Dependents  tenure  PhoneService  \\\n",
       "0       0              0        1           0       1             0   \n",
       "1       1              0        0           0      34             1   \n",
       "\n",
       "   MultipleLines  OnlineSecurity  OnlineBackup  DeviceProtection  ...  \\\n",
       "0              0               0             1                 0  ...   \n",
       "1              0               1             0                 1  ...   \n",
       "\n",
       "   InternetService_DSL  InternetService_Fiber optic  InternetService_No  \\\n",
       "0                    1                            0                   0   \n",
       "1                    1                            0                   0   \n",
       "\n",
       "   Contract_Month-to-month  Contract_One year  Contract_Two year  \\\n",
       "0                        1                  0                  0   \n",
       "1                        0                  1                  0   \n",
       "\n",
       "   PaymentMethod_Bank transfer (automatic)  \\\n",
       "0                                        0   \n",
       "1                                        0   \n",
       "\n",
       "   PaymentMethod_Credit card (automatic)  PaymentMethod_Electronic check  \\\n",
       "0                                      0                               1   \n",
       "1                                      0                               0   \n",
       "\n",
       "   PaymentMethod_Mailed check  \n",
       "0                           0  \n",
       "1                           1  \n",
       "\n",
       "[2 rows x 27 columns]"
      ]
     },
     "execution_count": 57,
     "metadata": {},
     "output_type": "execute_result"
    }
   ],
   "source": [
    "df.head(2)"
   ]
  },
  {
   "cell_type": "code",
   "execution_count": 58,
   "metadata": {},
   "outputs": [
    {
     "data": {
      "text/html": [
       "<div>\n",
       "<style scoped>\n",
       "    .dataframe tbody tr th:only-of-type {\n",
       "        vertical-align: middle;\n",
       "    }\n",
       "\n",
       "    .dataframe tbody tr th {\n",
       "        vertical-align: top;\n",
       "    }\n",
       "\n",
       "    .dataframe thead th {\n",
       "        text-align: right;\n",
       "    }\n",
       "</style>\n",
       "<table border=\"1\" class=\"dataframe\">\n",
       "  <thead>\n",
       "    <tr style=\"text-align: right;\">\n",
       "      <th></th>\n",
       "      <th>gender</th>\n",
       "      <th>SeniorCitizen</th>\n",
       "      <th>Partner</th>\n",
       "      <th>Dependents</th>\n",
       "      <th>tenure</th>\n",
       "      <th>PhoneService</th>\n",
       "      <th>MultipleLines</th>\n",
       "      <th>OnlineSecurity</th>\n",
       "      <th>OnlineBackup</th>\n",
       "      <th>DeviceProtection</th>\n",
       "      <th>...</th>\n",
       "      <th>InternetService_DSL</th>\n",
       "      <th>InternetService_Fiber optic</th>\n",
       "      <th>InternetService_No</th>\n",
       "      <th>Contract_Month-to-month</th>\n",
       "      <th>Contract_One year</th>\n",
       "      <th>Contract_Two year</th>\n",
       "      <th>PaymentMethod_Bank transfer (automatic)</th>\n",
       "      <th>PaymentMethod_Credit card (automatic)</th>\n",
       "      <th>PaymentMethod_Electronic check</th>\n",
       "      <th>PaymentMethod_Mailed check</th>\n",
       "    </tr>\n",
       "  </thead>\n",
       "  <tbody>\n",
       "    <tr>\n",
       "      <th>0</th>\n",
       "      <td>0</td>\n",
       "      <td>0</td>\n",
       "      <td>1</td>\n",
       "      <td>0</td>\n",
       "      <td>0.0</td>\n",
       "      <td>0</td>\n",
       "      <td>0</td>\n",
       "      <td>0</td>\n",
       "      <td>1</td>\n",
       "      <td>0</td>\n",
       "      <td>...</td>\n",
       "      <td>1</td>\n",
       "      <td>0</td>\n",
       "      <td>0</td>\n",
       "      <td>1</td>\n",
       "      <td>0</td>\n",
       "      <td>0</td>\n",
       "      <td>0</td>\n",
       "      <td>0</td>\n",
       "      <td>1</td>\n",
       "      <td>0</td>\n",
       "    </tr>\n",
       "  </tbody>\n",
       "</table>\n",
       "<p>1 rows × 27 columns</p>\n",
       "</div>"
      ],
      "text/plain": [
       "   gender  SeniorCitizen  Partner  Dependents  tenure  PhoneService  \\\n",
       "0       0              0        1           0     0.0             0   \n",
       "\n",
       "   MultipleLines  OnlineSecurity  OnlineBackup  DeviceProtection  ...  \\\n",
       "0              0               0             1                 0  ...   \n",
       "\n",
       "   InternetService_DSL  InternetService_Fiber optic  InternetService_No  \\\n",
       "0                    1                            0                   0   \n",
       "\n",
       "   Contract_Month-to-month  Contract_One year  Contract_Two year  \\\n",
       "0                        1                  0                  0   \n",
       "\n",
       "   PaymentMethod_Bank transfer (automatic)  \\\n",
       "0                                        0   \n",
       "\n",
       "   PaymentMethod_Credit card (automatic)  PaymentMethod_Electronic check  \\\n",
       "0                                      0                               1   \n",
       "\n",
       "   PaymentMethod_Mailed check  \n",
       "0                           0  \n",
       "\n",
       "[1 rows x 27 columns]"
      ]
     },
     "execution_count": 58,
     "metadata": {},
     "output_type": "execute_result"
    }
   ],
   "source": [
    "cols_to_scale = ['tenure','MonthlyCharges','TotalCharges']\n",
    "from sklearn.preprocessing import MinMaxScaler\n",
    "scaler = MinMaxScaler()\n",
    "\n",
    "df[cols_to_scale] = scaler.fit_transform(df[cols_to_scale])\n",
    "df.head(1)"
   ]
  },
  {
   "cell_type": "code",
   "execution_count": 59,
   "metadata": {},
   "outputs": [],
   "source": [
    "X = df.drop('Churn',axis='columns')\n",
    "y =df['Churn']"
   ]
  },
  {
   "cell_type": "code",
   "execution_count": 60,
   "metadata": {},
   "outputs": [],
   "source": [
    "from sklearn.model_selection import train_test_split\n",
    "\n",
    "X_train,X_test,y_train,y_test = train_test_split(X,y,test_size=0.2,random_state=5)"
   ]
  },
  {
   "cell_type": "code",
   "execution_count": 61,
   "metadata": {},
   "outputs": [
    {
     "data": {
      "text/plain": [
       "(5625, 26)"
      ]
     },
     "execution_count": 61,
     "metadata": {},
     "output_type": "execute_result"
    }
   ],
   "source": [
    "X_train.shape"
   ]
  },
  {
   "cell_type": "code",
   "execution_count": 62,
   "metadata": {},
   "outputs": [
    {
     "data": {
      "text/plain": [
       "26"
      ]
     },
     "execution_count": 62,
     "metadata": {},
     "output_type": "execute_result"
    }
   ],
   "source": [
    "len(X_train.columns)"
   ]
  },
  {
   "cell_type": "code",
   "execution_count": 65,
   "metadata": {},
   "outputs": [],
   "source": [
    "import tensorflow as tf\n",
    "from tensorflow import keras"
   ]
  },
  {
   "cell_type": "code",
   "execution_count": 67,
   "metadata": {},
   "outputs": [
    {
     "name": "stdout",
     "output_type": "stream",
     "text": [
      "Epoch 1/100\n",
      "176/176 [==============================] - 1s 663us/step - loss: 0.6210 - accuracy: 0.6224\n",
      "Epoch 2/100\n",
      "176/176 [==============================] - 0s 670us/step - loss: 0.4455 - accuracy: 0.7825\n",
      "Epoch 3/100\n",
      "176/176 [==============================] - 0s 653us/step - loss: 0.4156 - accuracy: 0.7989\n",
      "Epoch 4/100\n",
      "176/176 [==============================] - 0s 659us/step - loss: 0.4283 - accuracy: 0.7950\n",
      "Epoch 5/100\n",
      "176/176 [==============================] - 0s 662us/step - loss: 0.4119 - accuracy: 0.8040\n",
      "Epoch 6/100\n",
      "176/176 [==============================] - 0s 669us/step - loss: 0.4095 - accuracy: 0.8076\n",
      "Epoch 7/100\n",
      "176/176 [==============================] - 0s 911us/step - loss: 0.4062 - accuracy: 0.8061\n",
      "Epoch 8/100\n",
      "176/176 [==============================] - 0s 744us/step - loss: 0.4071 - accuracy: 0.8100\n",
      "Epoch 9/100\n",
      "176/176 [==============================] - 0s 738us/step - loss: 0.4172 - accuracy: 0.7980\n",
      "Epoch 10/100\n",
      "176/176 [==============================] - 0s 811us/step - loss: 0.4177 - accuracy: 0.7962\n",
      "Epoch 11/100\n",
      "176/176 [==============================] - 0s 724us/step - loss: 0.4147 - accuracy: 0.8055\n",
      "Epoch 12/100\n",
      "176/176 [==============================] - 0s 683us/step - loss: 0.4132 - accuracy: 0.81190s - loss: 0.4146 - accuracy: 0.81\n",
      "Epoch 13/100\n",
      "176/176 [==============================] - 0s 737us/step - loss: 0.3943 - accuracy: 0.8176\n",
      "Epoch 14/100\n",
      "176/176 [==============================] - 0s 821us/step - loss: 0.4102 - accuracy: 0.8049\n",
      "Epoch 15/100\n",
      "176/176 [==============================] - 0s 767us/step - loss: 0.3975 - accuracy: 0.8186\n",
      "Epoch 16/100\n",
      "176/176 [==============================] - 0s 737us/step - loss: 0.4033 - accuracy: 0.8085\n",
      "Epoch 17/100\n",
      "176/176 [==============================] - 0s 782us/step - loss: 0.3955 - accuracy: 0.8266\n",
      "Epoch 18/100\n",
      "176/176 [==============================] - 0s 664us/step - loss: 0.3943 - accuracy: 0.8215\n",
      "Epoch 19/100\n",
      "176/176 [==============================] - 0s 653us/step - loss: 0.4024 - accuracy: 0.8102\n",
      "Epoch 20/100\n",
      "176/176 [==============================] - 0s 664us/step - loss: 0.3944 - accuracy: 0.8113\n",
      "Epoch 21/100\n",
      "176/176 [==============================] - 0s 910us/step - loss: 0.4024 - accuracy: 0.8119\n",
      "Epoch 22/100\n",
      "176/176 [==============================] - 0s 826us/step - loss: 0.4033 - accuracy: 0.8170\n",
      "Epoch 23/100\n",
      "176/176 [==============================] - 0s 750us/step - loss: 0.4008 - accuracy: 0.8080\n",
      "Epoch 24/100\n",
      "176/176 [==============================] - 0s 768us/step - loss: 0.3969 - accuracy: 0.8098\n",
      "Epoch 25/100\n",
      "176/176 [==============================] - 0s 799us/step - loss: 0.4033 - accuracy: 0.8168\n",
      "Epoch 26/100\n",
      "176/176 [==============================] - 0s 733us/step - loss: 0.3983 - accuracy: 0.8152\n",
      "Epoch 27/100\n",
      "176/176 [==============================] - 0s 754us/step - loss: 0.3976 - accuracy: 0.8154\n",
      "Epoch 28/100\n",
      "176/176 [==============================] - 0s 765us/step - loss: 0.3898 - accuracy: 0.8247\n",
      "Epoch 29/100\n",
      "176/176 [==============================] - 0s 754us/step - loss: 0.4033 - accuracy: 0.8174\n",
      "Epoch 30/100\n",
      "176/176 [==============================] - 0s 773us/step - loss: 0.3909 - accuracy: 0.8179\n",
      "Epoch 31/100\n",
      "176/176 [==============================] - 0s 740us/step - loss: 0.3870 - accuracy: 0.8246\n",
      "Epoch 32/100\n",
      "176/176 [==============================] - 0s 886us/step - loss: 0.3853 - accuracy: 0.8140\n",
      "Epoch 33/100\n",
      "176/176 [==============================] - 0s 731us/step - loss: 0.3898 - accuracy: 0.8139\n",
      "Epoch 34/100\n",
      "176/176 [==============================] - 0s 759us/step - loss: 0.4007 - accuracy: 0.8129\n",
      "Epoch 35/100\n",
      "176/176 [==============================] - 0s 751us/step - loss: 0.3906 - accuracy: 0.8155\n",
      "Epoch 36/100\n",
      "176/176 [==============================] - 0s 715us/step - loss: 0.3815 - accuracy: 0.8268\n",
      "Epoch 37/100\n",
      "176/176 [==============================] - 0s 802us/step - loss: 0.3941 - accuracy: 0.8136\n",
      "Epoch 38/100\n",
      "176/176 [==============================] - 0s 816us/step - loss: 0.3967 - accuracy: 0.8161\n",
      "Epoch 39/100\n",
      "176/176 [==============================] - 0s 773us/step - loss: 0.3814 - accuracy: 0.8228\n",
      "Epoch 40/100\n",
      "176/176 [==============================] - 0s 741us/step - loss: 0.3916 - accuracy: 0.8162\n",
      "Epoch 41/100\n",
      "176/176 [==============================] - 0s 713us/step - loss: 0.3952 - accuracy: 0.8189\n",
      "Epoch 42/100\n",
      "176/176 [==============================] - 0s 653us/step - loss: 0.3859 - accuracy: 0.8207\n",
      "Epoch 43/100\n",
      "176/176 [==============================] - 0s 669us/step - loss: 0.3821 - accuracy: 0.8244\n",
      "Epoch 44/100\n",
      "176/176 [==============================] - 0s 670us/step - loss: 0.4000 - accuracy: 0.8154\n",
      "Epoch 45/100\n",
      "176/176 [==============================] - 0s 670us/step - loss: 0.3911 - accuracy: 0.8170\n",
      "Epoch 46/100\n",
      "176/176 [==============================] - 0s 664us/step - loss: 0.3862 - accuracy: 0.8228\n",
      "Epoch 47/100\n",
      "176/176 [==============================] - 0s 681us/step - loss: 0.3895 - accuracy: 0.8210\n",
      "Epoch 48/100\n",
      "176/176 [==============================] - 0s 657us/step - loss: 0.3828 - accuracy: 0.8264\n",
      "Epoch 49/100\n",
      "176/176 [==============================] - 0s 659us/step - loss: 0.3886 - accuracy: 0.8213\n",
      "Epoch 50/100\n",
      "176/176 [==============================] - 0s 659us/step - loss: 0.3805 - accuracy: 0.8252\n",
      "Epoch 51/100\n",
      "176/176 [==============================] - 0s 662us/step - loss: 0.3978 - accuracy: 0.8089\n",
      "Epoch 52/100\n",
      "176/176 [==============================] - 0s 707us/step - loss: 0.3939 - accuracy: 0.8138\n",
      "Epoch 53/100\n",
      "176/176 [==============================] - 0s 730us/step - loss: 0.3839 - accuracy: 0.8232\n",
      "Epoch 54/100\n",
      "176/176 [==============================] - 0s 759us/step - loss: 0.4011 - accuracy: 0.8118\n",
      "Epoch 55/100\n",
      "176/176 [==============================] - 0s 830us/step - loss: 0.3901 - accuracy: 0.8147\n",
      "Epoch 56/100\n",
      "176/176 [==============================] - 0s 783us/step - loss: 0.3810 - accuracy: 0.8213\n",
      "Epoch 57/100\n",
      "176/176 [==============================] - 0s 685us/step - loss: 0.3892 - accuracy: 0.8154\n",
      "Epoch 58/100\n",
      "176/176 [==============================] - 0s 675us/step - loss: 0.3659 - accuracy: 0.8308\n",
      "Epoch 59/100\n",
      "176/176 [==============================] - 0s 724us/step - loss: 0.3908 - accuracy: 0.8152\n",
      "Epoch 60/100\n",
      "176/176 [==============================] - 0s 690us/step - loss: 0.3867 - accuracy: 0.8185\n",
      "Epoch 61/100\n",
      "176/176 [==============================] - 0s 846us/step - loss: 0.3891 - accuracy: 0.8151\n",
      "Epoch 62/100\n",
      "176/176 [==============================] - 0s 726us/step - loss: 0.3812 - accuracy: 0.8282\n",
      "Epoch 63/100\n",
      "176/176 [==============================] - 0s 687us/step - loss: 0.3845 - accuracy: 0.8231\n",
      "Epoch 64/100\n",
      "176/176 [==============================] - 0s 731us/step - loss: 0.3832 - accuracy: 0.8182\n",
      "Epoch 65/100\n",
      "176/176 [==============================] - 0s 687us/step - loss: 0.3817 - accuracy: 0.8276\n",
      "Epoch 66/100\n",
      "176/176 [==============================] - 0s 663us/step - loss: 0.3773 - accuracy: 0.8298\n",
      "Epoch 67/100\n",
      "176/176 [==============================] - 0s 729us/step - loss: 0.3791 - accuracy: 0.8288\n",
      "Epoch 68/100\n",
      "176/176 [==============================] - 0s 704us/step - loss: 0.3933 - accuracy: 0.8204\n",
      "Epoch 69/100\n",
      "176/176 [==============================] - 0s 687us/step - loss: 0.3805 - accuracy: 0.8191\n",
      "Epoch 70/100\n",
      "176/176 [==============================] - 0s 726us/step - loss: 0.3760 - accuracy: 0.8279\n",
      "Epoch 71/100\n",
      "176/176 [==============================] - 0s 692us/step - loss: 0.3748 - accuracy: 0.8180\n",
      "Epoch 72/100\n",
      "176/176 [==============================] - 0s 719us/step - loss: 0.3838 - accuracy: 0.8228\n",
      "Epoch 73/100\n",
      "176/176 [==============================] - 0s 696us/step - loss: 0.3682 - accuracy: 0.8292\n",
      "Epoch 74/100\n",
      "176/176 [==============================] - 0s 670us/step - loss: 0.3726 - accuracy: 0.8273\n",
      "Epoch 75/100\n",
      "176/176 [==============================] - 0s 720us/step - loss: 0.3945 - accuracy: 0.8114\n",
      "Epoch 76/100\n",
      "176/176 [==============================] - 0s 681us/step - loss: 0.3834 - accuracy: 0.8229\n",
      "Epoch 77/100\n",
      "176/176 [==============================] - 0s 659us/step - loss: 0.3789 - accuracy: 0.8151\n",
      "Epoch 78/100\n",
      "176/176 [==============================] - 0s 670us/step - loss: 0.3875 - accuracy: 0.8136\n",
      "Epoch 79/100\n"
     ]
    },
    {
     "name": "stdout",
     "output_type": "stream",
     "text": [
      "176/176 [==============================] - 0s 737us/step - loss: 0.3743 - accuracy: 0.8256\n",
      "Epoch 80/100\n",
      "176/176 [==============================] - 0s 731us/step - loss: 0.3906 - accuracy: 0.8125\n",
      "Epoch 81/100\n",
      "176/176 [==============================] - 0s 651us/step - loss: 0.3829 - accuracy: 0.8191\n",
      "Epoch 82/100\n",
      "176/176 [==============================] - 0s 681us/step - loss: 0.3805 - accuracy: 0.8126\n",
      "Epoch 83/100\n",
      "176/176 [==============================] - 0s 725us/step - loss: 0.3908 - accuracy: 0.8131\n",
      "Epoch 84/100\n",
      "176/176 [==============================] - 0s 696us/step - loss: 0.3854 - accuracy: 0.8163\n",
      "Epoch 85/100\n",
      "176/176 [==============================] - 0s 659us/step - loss: 0.3873 - accuracy: 0.8091\n",
      "Epoch 86/100\n",
      "176/176 [==============================] - 0s 721us/step - loss: 0.3862 - accuracy: 0.8172\n",
      "Epoch 87/100\n",
      "176/176 [==============================] - 0s 731us/step - loss: 0.3928 - accuracy: 0.8167\n",
      "Epoch 88/100\n",
      "176/176 [==============================] - 0s 659us/step - loss: 0.3819 - accuracy: 0.8230\n",
      "Epoch 89/100\n",
      "176/176 [==============================] - 0s 687us/step - loss: 0.3712 - accuracy: 0.8268\n",
      "Epoch 90/100\n",
      "176/176 [==============================] - 0s 709us/step - loss: 0.3736 - accuracy: 0.8262\n",
      "Epoch 91/100\n",
      "176/176 [==============================] - 0s 698us/step - loss: 0.3676 - accuracy: 0.8239\n",
      "Epoch 92/100\n",
      "176/176 [==============================] - 0s 676us/step - loss: 0.3845 - accuracy: 0.8192\n",
      "Epoch 93/100\n",
      "176/176 [==============================] - 0s 731us/step - loss: 0.3604 - accuracy: 0.8373\n",
      "Epoch 94/100\n",
      "176/176 [==============================] - 0s 703us/step - loss: 0.3726 - accuracy: 0.8312\n",
      "Epoch 95/100\n",
      "176/176 [==============================] - 0s 693us/step - loss: 0.3856 - accuracy: 0.8167\n",
      "Epoch 96/100\n",
      "176/176 [==============================] - 0s 720us/step - loss: 0.3860 - accuracy: 0.8191\n",
      "Epoch 97/100\n",
      "176/176 [==============================] - 0s 686us/step - loss: 0.3879 - accuracy: 0.8126\n",
      "Epoch 98/100\n",
      "176/176 [==============================] - 0s 656us/step - loss: 0.3670 - accuracy: 0.8250\n",
      "Epoch 99/100\n",
      "176/176 [==============================] - 0s 657us/step - loss: 0.3777 - accuracy: 0.8203\n",
      "Epoch 100/100\n",
      "176/176 [==============================] - 0s 681us/step - loss: 0.3823 - accuracy: 0.8194\n"
     ]
    },
    {
     "data": {
      "text/plain": [
       "<tensorflow.python.keras.callbacks.History at 0x2c62f0c8b80>"
      ]
     },
     "execution_count": 67,
     "metadata": {},
     "output_type": "execute_result"
    }
   ],
   "source": [
    "model = keras.Sequential([\n",
    "    keras.layers.Dense(26,activation='relu'),\n",
    "    keras.layers.Dense(1,activation='sigmoid')\n",
    "])\n",
    "model.compile(optimizer='adam',\n",
    "             loss='binary_crossentropy',\n",
    "             metrics=['accuracy'])\n",
    "model.fit(X_train,y_train,epochs=100)"
   ]
  },
  {
   "cell_type": "code",
   "execution_count": 68,
   "metadata": {
    "scrolled": true
   },
   "outputs": [
    {
     "name": "stdout",
     "output_type": "stream",
     "text": [
      "44/44 [==============================] - 0s 545us/step - loss: 0.4490 - accuracy: 0.7861\n"
     ]
    },
    {
     "data": {
      "text/plain": [
       "[0.4489820599555969, 0.7860696315765381]"
      ]
     },
     "execution_count": 68,
     "metadata": {},
     "output_type": "execute_result"
    }
   ],
   "source": [
    "model.evaluate(X_test,y_test)\n"
   ]
  },
  {
   "cell_type": "code",
   "execution_count": 69,
   "metadata": {},
   "outputs": [
    {
     "data": {
      "text/plain": [
       "array([[0.34059975],\n",
       "       [0.49102664],\n",
       "       [0.02089319],\n",
       "       [0.7912552 ],\n",
       "       [0.45386413]], dtype=float32)"
      ]
     },
     "execution_count": 69,
     "metadata": {},
     "output_type": "execute_result"
    }
   ],
   "source": [
    "yp = model.predict(X_test)\n",
    "yp[:5]"
   ]
  },
  {
   "cell_type": "code",
   "execution_count": 70,
   "metadata": {},
   "outputs": [],
   "source": [
    "y_pred = []\n",
    "for element in yp:\n",
    "    if element > 0.5:\n",
    "        y_pred.append(1)\n",
    "    else:\n",
    "        y_pred.append(0)"
   ]
  },
  {
   "cell_type": "code",
   "execution_count": 72,
   "metadata": {
    "scrolled": true
   },
   "outputs": [
    {
     "data": {
      "text/plain": [
       "2660    0\n",
       "744     0\n",
       "5579    1\n",
       "64      1\n",
       "3287    1\n",
       "Name: Churn, dtype: int32"
      ]
     },
     "execution_count": 72,
     "metadata": {},
     "output_type": "execute_result"
    }
   ],
   "source": [
    "y_test[0:5]"
   ]
  },
  {
   "cell_type": "code",
   "execution_count": 74,
   "metadata": {
    "scrolled": true
   },
   "outputs": [
    {
     "name": "stdout",
     "output_type": "stream",
     "text": [
      "              precision    recall  f1-score   support\n",
      "\n",
      "           0       0.83      0.88      0.85       999\n",
      "           1       0.65      0.56      0.60       408\n",
      "\n",
      "    accuracy                           0.79      1407\n",
      "   macro avg       0.74      0.72      0.73      1407\n",
      "weighted avg       0.78      0.79      0.78      1407\n",
      "\n",
      "[[877 122]\n",
      " [179 229]]\n"
     ]
    }
   ],
   "source": [
    "from sklearn.metrics import confusion_matrix,classification_report\n",
    "print(classification_report(y_test,y_pred))\n",
    "print(confusion_matrix(y_test,y_pred))"
   ]
  },
  {
   "cell_type": "code",
   "execution_count": 77,
   "metadata": {},
   "outputs": [
    {
     "data": {
      "text/plain": [
       "Text(33.0, 0.5, 'Truth')"
      ]
     },
     "execution_count": 77,
     "metadata": {},
     "output_type": "execute_result"
    },
    {
     "data": {
      "image/png": "[encoded data removed]",
      "text/plain": [
       "<Figure size 432x288 with 2 Axes>"
      ]
     },
     "metadata": {
      "needs_background": "light"
     },
     "output_type": "display_data"
    }
   ],
   "source": [
    "sns.heatmap(confusion_matrix(y_test,y_pred),annot=True,fmt='d')\n",
    "plt.xlabel('Predicted')\n",
    "plt.ylabel('Truth')"
   ]
  }
 ],
 "metadata": {
  "kernelspec": {
   "display_name": "Python 3",
   "language": "python",
   "name": "python3"
  },
  "language_info": {
   "codemirror_mode": {
    "name": "ipython",
    "version": 3
   },
   "file_extension": ".py",
   "mimetype": "text/x-python",
   "name": "python",
   "nbconvert_exporter": "python",
   "pygments_lexer": "ipython3",
   "version": "3.8.5"
  }
 },
 "nbformat": 4,
 "nbformat_minor": 4
}
